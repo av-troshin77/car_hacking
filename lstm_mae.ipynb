{
 "cells": [
  {
   "cell_type": "markdown",
   "id": "77849529-5d63-41fe-a65b-b41b81ada5b5",
   "metadata": {},
   "source": [
    "# LSTM Autoendcoder for Anomaly Detection"
   ]
  },
  {
   "cell_type": "code",
   "execution_count": 1,
   "id": "3dcd9866-bf72-4cd3-b32a-e1cfafd7c97c",
   "metadata": {
    "scrolled": true
   },
   "outputs": [
    {
     "name": "stderr",
     "output_type": "stream",
     "text": [
      "2024-04-02 20:03:34.384855: I tensorflow/core/util/port.cc:113] oneDNN custom operations are on. You may see slightly different numerical results due to floating-point round-off errors from different computation orders. To turn them off, set the environment variable `TF_ENABLE_ONEDNN_OPTS=0`.\n",
      "2024-04-02 20:03:34.402089: I tensorflow/core/platform/cpu_feature_guard.cc:182] This TensorFlow binary is optimized to use available CPU instructions in performance-critical operations.\n",
      "To enable the following instructions: AVX2 AVX_VNNI FMA, in other operations, rebuild TensorFlow with the appropriate compiler flags.\n"
     ]
    }
   ],
   "source": [
    "import pandas as pd\n",
    "import numpy as np\n",
    "from sklearn import preprocessing as pp\n",
    "import tensorflow as tf\n",
    "from sklearn.model_selection import train_test_split\n",
    "from sklearn.metrics import roc_curve\n",
    "from sklearn.metrics import average_precision_score\n",
    "from sklearn.metrics import precision_recall_curve\n",
    "from sklearn.metrics import auc\n",
    "import matplotlib.pyplot as plt\n",
    "from sklearn.metrics import mean_squared_error"
   ]
  },
  {
   "cell_type": "code",
   "execution_count": 2,
   "id": "8ea1c903-2eec-45f1-bd93-1e975fb52664",
   "metadata": {},
   "outputs": [],
   "source": [
    "#data = pd.read_csv('../Datasets/Car_Hacking_Challenge_Dataset/0_Preliminary/1_Submission/Pre_submit_D.csv')\n",
    "data = pd.read_csv('../Datasets/Car_Hacking_Challenge_Dataset/0_Preliminary/1_Submission/Pre_submit_S.csv')"
   ]
  },
  {
   "cell_type": "markdown",
   "id": "e3b89e24-4ae0-496e-9c87-9f80e5e8c24c",
   "metadata": {},
   "source": [
    "## Data Preprocessing Function"
   ]
  },
  {
   "cell_type": "code",
   "execution_count": 3,
   "id": "e08a2298-cea7-47d1-8bea-425041c42407",
   "metadata": {},
   "outputs": [],
   "source": [
    "def preprocessing(data):\n",
    "    \n",
    "    # get intervals from original dataframe\n",
    "    df = pd.DataFrame()\n",
    "    df['Intervals']=data['Timestamp'].diff()\n",
    "    \n",
    "    # add two columns \n",
    "    df[['Arbitration_ID', 'DLC']] = data[['Arbitration_ID', 'DLC']]\n",
    "    df['Arbitration_ID'] = df['Arbitration_ID'].apply(int, base=16)\n",
    "    \n",
    "    # split Data column into eight colums and add them to a new dataframe\n",
    "    col_list = ['D1', 'D2', 'D3', 'D4', 'D5', 'D6', 'D7', 'D8']\n",
    "    data_list = pd.DataFrame()\n",
    "    data_list[col_list] = data['Data'].str.split(' ', expand=True)\n",
    "    \n",
    "    # fill NaNs with string \n",
    "    data_list.fillna('00', inplace=True)\n",
    "\n",
    "    # convert hex-strings into integers \n",
    "    for d in col_list:\n",
    "        data_list[d] = data_list[d].apply(int, base=16)\n",
    "\n",
    "    # add data to intervals and fill NaNs with zerous\n",
    "    df[col_list] = data_list\n",
    "    df.fillna(0, inplace=True)\n",
    "\n",
    "    # scale the data\n",
    "    scaler = pp.MinMaxScaler()\n",
    "    df = scaler.fit_transform(df)\n",
    "    df = pd.DataFrame(df)\n",
    "    \n",
    "\n",
    "    # get labels\n",
    "    labels = pd.DataFrame()\n",
    "    labels['Class'] = data['Class']\n",
    "\n",
    "    # replace strings with numbers\n",
    "    labels = labels.replace(to_replace='Normal', value=0)\n",
    "    labels = labels.replace(to_replace='Attack', value=1)\n",
    "\n",
    "    return df, labels"
   ]
  },
  {
   "cell_type": "markdown",
   "id": "a140b0f9-62ed-49d3-a32d-b365c963de49",
   "metadata": {},
   "source": [
    "## 2.Train-Test-Validataion Split"
   ]
  },
  {
   "cell_type": "code",
   "execution_count": 4,
   "id": "c0f2eebf-6797-41b0-8776-154a14edd062",
   "metadata": {},
   "outputs": [],
   "source": [
    "d_train, d_val, = train_test_split(data, shuffle=False, test_size=0.1)\n",
    "d_train, d_test, = train_test_split(data, shuffle=False, test_size=0.15)"
   ]
  },
  {
   "cell_type": "code",
   "execution_count": 5,
   "id": "71ee9457-858f-45ab-9226-709ab67d7e2f",
   "metadata": {},
   "outputs": [],
   "source": [
    "# remove anomaliest from train data \n",
    "#d_train = d_train[d_train.Class != 'Attack']"
   ]
  },
  {
   "cell_type": "code",
   "execution_count": 6,
   "id": "07a4eda2-1e1b-41c3-9ba6-6a477a2d1fe9",
   "metadata": {},
   "outputs": [
    {
     "data": {
      "text/plain": [
       "(1488616, 11)"
      ]
     },
     "execution_count": 6,
     "metadata": {},
     "output_type": "execute_result"
    }
   ],
   "source": [
    "X_train, y_train = preprocessing(d_train)\n",
    "X_train.shape"
   ]
  },
  {
   "cell_type": "code",
   "execution_count": 7,
   "id": "9f6acf78-d665-4e5e-b239-42181f2da58c",
   "metadata": {
    "scrolled": true
   },
   "outputs": [
    {
     "data": {
      "text/plain": [
       "(262697, 1)"
      ]
     },
     "execution_count": 7,
     "metadata": {},
     "output_type": "execute_result"
    }
   ],
   "source": [
    "X_test, y_test = preprocessing(d_test)\n",
    "y_test.shape"
   ]
  },
  {
   "cell_type": "code",
   "execution_count": 8,
   "id": "df9725f6-24dd-432d-94c2-32edf67762c8",
   "metadata": {},
   "outputs": [
    {
     "data": {
      "text/plain": [
       "(175132, 1)"
      ]
     },
     "execution_count": 8,
     "metadata": {},
     "output_type": "execute_result"
    }
   ],
   "source": [
    "X_val, y_val = preprocessing(d_val)\n",
    "y_val.shape"
   ]
  },
  {
   "cell_type": "code",
   "execution_count": 9,
   "id": "86ee870a-4815-49eb-b83c-73f29ef9e865",
   "metadata": {},
   "outputs": [
    {
     "name": "stdout",
     "output_type": "stream",
     "text": [
      "Number anomalies in train data: 171436\n",
      "Number anomalies in test data: 20713\n",
      "Number anomalies in validation data: 17005\n"
     ]
    }
   ],
   "source": [
    "# anomaly counts\n",
    "train_anomalies = y_train['Class'].sum()\n",
    "print(f'Number anomalies in train data: {train_anomalies}')\n",
    "test_anomalies = y_test['Class'].sum()\n",
    "print(f'Number anomalies in test data: {test_anomalies}')\n",
    "val_anomalies = y_val['Class'].sum()\n",
    "print(f'Number anomalies in validation data: {val_anomalies}')"
   ]
  },
  {
   "cell_type": "markdown",
   "id": "d1a77eb8-a01a-464e-9775-0ab91864ed26",
   "metadata": {},
   "source": [
    "## 3. Convert Data into Sequences"
   ]
  },
  {
   "cell_type": "code",
   "execution_count": 10,
   "id": "72a2bcbb-20c6-4e4c-8052-909207c34625",
   "metadata": {},
   "outputs": [],
   "source": [
    "# convert function \n",
    "def to_sequences(data, n_steps):\n",
    "    samples = list()\n",
    "    for i in range(len(data)):\n",
    "        # find the end \n",
    "        end_ix = i + n_steps\n",
    "        # check if beyond the data\n",
    "        if end_ix > len(data):\n",
    "            break\n",
    "        seq = data[i:end_ix]\n",
    "        samples.append(seq)\n",
    "    return np.array(samples)"
   ]
  },
  {
   "cell_type": "code",
   "execution_count": 11,
   "id": "778bf8ca-3a3f-4169-92bc-845226db8b2d",
   "metadata": {},
   "outputs": [
    {
     "name": "stdout",
     "output_type": "stream",
     "text": [
      "(1488615, 2, 11)\n",
      "(1488615, 2, 1)\n"
     ]
    }
   ],
   "source": [
    "n_steps = 2\n",
    "X_train = to_sequences(X_train, n_steps)\n",
    "y_train = to_sequences(y_train, n_steps)\n",
    "print(X_train.shape)\n",
    "print(y_train.shape)"
   ]
  },
  {
   "cell_type": "code",
   "execution_count": 12,
   "id": "84425c83-0f76-43fa-9539-548892ab3c09",
   "metadata": {},
   "outputs": [
    {
     "name": "stdout",
     "output_type": "stream",
     "text": [
      "(262696, 2, 11)\n",
      "(262696, 2, 1)\n"
     ]
    }
   ],
   "source": [
    "X_test = to_sequences(X_test, n_steps)\n",
    "y_test = to_sequences(y_test, n_steps)\n",
    "print(X_test.shape)\n",
    "print(y_test.shape)"
   ]
  },
  {
   "cell_type": "code",
   "execution_count": 13,
   "id": "294ba726-c5bb-4367-ad7e-0859240f97e3",
   "metadata": {},
   "outputs": [
    {
     "name": "stdout",
     "output_type": "stream",
     "text": [
      "(175131, 2, 11)\n",
      "(175131, 2, 1)\n"
     ]
    }
   ],
   "source": [
    "X_val = to_sequences(X_val, n_steps)\n",
    "y_val = to_sequences(y_val, n_steps)\n",
    "print(X_val.shape)\n",
    "print(y_val.shape)"
   ]
  },
  {
   "cell_type": "code",
   "execution_count": 14,
   "id": "2bd1adcf-5fb0-47af-8beb-04451e88842a",
   "metadata": {},
   "outputs": [
    {
     "data": {
      "text/plain": [
       "(1488615, 1)"
      ]
     },
     "execution_count": 14,
     "metadata": {},
     "output_type": "execute_result"
    }
   ],
   "source": [
    "# convert y-sequences into classes\n",
    "y_train_class = y_train.sum(axis=1)\n",
    "y_train_class = np.array([y==1 if y.sum()>0 else y==0 for y in y_train_class])\n",
    "y_train_class.shape"
   ]
  },
  {
   "cell_type": "code",
   "execution_count": 15,
   "id": "e2c551e2-f948-459a-8830-c7b14d6e6490",
   "metadata": {},
   "outputs": [
    {
     "data": {
      "text/plain": [
       "(262696, 1)"
      ]
     },
     "execution_count": 15,
     "metadata": {},
     "output_type": "execute_result"
    }
   ],
   "source": [
    "# convert y-sequences into classes\n",
    "y_test_class = y_test.sum(axis=1)\n",
    "y_test_class = np.array([y==1 if y.sum()>0 else y==0 for y in y_test_class])\n",
    "y_test_class.shape"
   ]
  },
  {
   "cell_type": "code",
   "execution_count": 16,
   "id": "e98e5e44-6c96-4d8e-b0d1-8468b64ece8d",
   "metadata": {},
   "outputs": [
    {
     "data": {
      "text/plain": [
       "(175131, 1)"
      ]
     },
     "execution_count": 16,
     "metadata": {},
     "output_type": "execute_result"
    }
   ],
   "source": [
    "# convert y-sequences into classes\n",
    "y_val_class = y_val.sum(axis=1)\n",
    "y_val_class = np.array([y==1 if y.sum()>0 else y==0 for y in y_val_class])\n",
    "y_val_class.shape"
   ]
  },
  {
   "cell_type": "markdown",
   "id": "a7ede163-3485-4cfd-bbb0-aa7e432e297e",
   "metadata": {},
   "source": [
    "## 4.Define LSTM"
   ]
  },
  {
   "cell_type": "code",
   "execution_count": 17,
   "id": "0a506ecd-95c9-4338-a42a-8c286274f068",
   "metadata": {},
   "outputs": [],
   "source": [
    "# model parameters\n",
    "n_features = X_train.shape[2]\n",
    "n_hidden = 32"
   ]
  },
  {
   "cell_type": "code",
   "execution_count": 18,
   "id": "398592ee-9f34-48e1-9063-bd3c19cc8889",
   "metadata": {},
   "outputs": [],
   "source": [
    "def lstm_model(n_steps, n_features, lr=0.011):\n",
    "    # define layers\n",
    "    inputs = tf.keras.Input(shape=(n_steps, n_features))\n",
    "    lstm1 =  tf.keras.layers.LSTM(n_hidden, activation='tanh', dropout=0)\n",
    "    vector = tf.keras.layers.RepeatVector(n_steps)\n",
    "    lstm2 =  tf.keras.layers.LSTM(n_hidden, activation='tanh', dropout=0, return_sequences=True)\n",
    "    dense =  tf.keras.layers.Dense(n_features)\n",
    "    outputs = tf.keras.layers.TimeDistributed(dense)\n",
    "    layers = [inputs, lstm1, vector, lstm2, outputs]\n",
    "    # create model\n",
    "    model = tf.keras.models.Sequential(layers)\n",
    "    model.summary()\n",
    "    # compile model\n",
    "    opt = tf.keras.optimizers.Adam(learning_rate=lr)\n",
    "    rmse = tf.keras.metrics.RootMeanSquaredError()\n",
    "    mae = tf.keras.metrics.MeanAbsoluteError()\n",
    "    model.compile(optimizer=opt, loss='mean_absolute_error', metrics=[rmse, mae])\n",
    "    return model"
   ]
  },
  {
   "cell_type": "markdown",
   "id": "3a9b5dbf-c684-42f3-84fd-0be8a4b9c0ab",
   "metadata": {},
   "source": [
    "## 4.Train Model"
   ]
  },
  {
   "cell_type": "code",
   "execution_count": 19,
   "id": "b0758032-af31-471c-8a34-f6362551a1c5",
   "metadata": {
    "scrolled": true
   },
   "outputs": [
    {
     "name": "stdout",
     "output_type": "stream",
     "text": [
      "Model: \"sequential\"\n",
      "_________________________________________________________________\n",
      " Layer (type)                Output Shape              Param #   \n",
      "=================================================================\n",
      " lstm (LSTM)                 (None, 32)                5632      \n",
      "                                                                 \n",
      " repeat_vector (RepeatVecto  (None, 2, 32)             0         \n",
      " r)                                                              \n",
      "                                                                 \n",
      " lstm_1 (LSTM)               (None, 2, 32)             8320      \n",
      "                                                                 \n",
      " time_distributed (TimeDist  (None, 2, 11)             363       \n",
      " ributed)                                                        \n",
      "                                                                 \n",
      "=================================================================\n",
      "Total params: 14315 (55.92 KB)\n",
      "Trainable params: 14315 (55.92 KB)\n",
      "Non-trainable params: 0 (0.00 Byte)\n",
      "_________________________________________________________________\n"
     ]
    }
   ],
   "source": [
    "model = lstm_model(n_steps, n_features, lr=0.001)"
   ]
  },
  {
   "cell_type": "code",
   "execution_count": 20,
   "id": "48ea44e5-45eb-4f77-b5bb-86c7a7d8208b",
   "metadata": {},
   "outputs": [
    {
     "name": "stdout",
     "output_type": "stream",
     "text": [
      "Epoch 1/100\n",
      "75/75 [==============================] - 3s 22ms/step - loss: 0.2308 - root_mean_squared_error: 0.3776 - mean_absolute_error: 0.2308 - val_loss: 0.1927 - val_root_mean_squared_error: 0.3071 - val_mean_absolute_error: 0.1927\n",
      "Epoch 2/100\n",
      "75/75 [==============================] - 1s 18ms/step - loss: 0.1633 - root_mean_squared_error: 0.2660 - mean_absolute_error: 0.1633 - val_loss: 0.1515 - val_root_mean_squared_error: 0.2426 - val_mean_absolute_error: 0.1515\n",
      "Epoch 3/100\n",
      "75/75 [==============================] - 1s 18ms/step - loss: 0.1344 - root_mean_squared_error: 0.2264 - mean_absolute_error: 0.1344 - val_loss: 0.1300 - val_root_mean_squared_error: 0.2174 - val_mean_absolute_error: 0.1300\n",
      "Epoch 4/100\n",
      "75/75 [==============================] - 1s 18ms/step - loss: 0.1119 - root_mean_squared_error: 0.2053 - mean_absolute_error: 0.1119 - val_loss: 0.1089 - val_root_mean_squared_error: 0.2037 - val_mean_absolute_error: 0.1089\n",
      "Epoch 5/100\n",
      "75/75 [==============================] - 1s 18ms/step - loss: 0.0982 - root_mean_squared_error: 0.1961 - mean_absolute_error: 0.0982 - val_loss: 0.1015 - val_root_mean_squared_error: 0.1970 - val_mean_absolute_error: 0.1015\n",
      "Epoch 6/100\n",
      "75/75 [==============================] - 1s 18ms/step - loss: 0.0931 - root_mean_squared_error: 0.1909 - mean_absolute_error: 0.0931 - val_loss: 0.0976 - val_root_mean_squared_error: 0.1929 - val_mean_absolute_error: 0.0976\n",
      "Epoch 7/100\n",
      "75/75 [==============================] - 1s 18ms/step - loss: 0.0898 - root_mean_squared_error: 0.1869 - mean_absolute_error: 0.0898 - val_loss: 0.0949 - val_root_mean_squared_error: 0.1894 - val_mean_absolute_error: 0.0949\n",
      "Epoch 8/100\n",
      "75/75 [==============================] - 1s 18ms/step - loss: 0.0874 - root_mean_squared_error: 0.1839 - mean_absolute_error: 0.0874 - val_loss: 0.0929 - val_root_mean_squared_error: 0.1867 - val_mean_absolute_error: 0.0929\n",
      "Epoch 9/100\n",
      "75/75 [==============================] - 1s 18ms/step - loss: 0.0854 - root_mean_squared_error: 0.1815 - mean_absolute_error: 0.0854 - val_loss: 0.0908 - val_root_mean_squared_error: 0.1847 - val_mean_absolute_error: 0.0908\n",
      "Epoch 10/100\n",
      "75/75 [==============================] - 1s 18ms/step - loss: 0.0837 - root_mean_squared_error: 0.1794 - mean_absolute_error: 0.0837 - val_loss: 0.0892 - val_root_mean_squared_error: 0.1825 - val_mean_absolute_error: 0.0892\n",
      "Epoch 11/100\n",
      "75/75 [==============================] - 1s 18ms/step - loss: 0.0820 - root_mean_squared_error: 0.1770 - mean_absolute_error: 0.0820 - val_loss: 0.0874 - val_root_mean_squared_error: 0.1798 - val_mean_absolute_error: 0.0874\n",
      "Epoch 12/100\n",
      "75/75 [==============================] - 1s 18ms/step - loss: 0.0801 - root_mean_squared_error: 0.1740 - mean_absolute_error: 0.0801 - val_loss: 0.0851 - val_root_mean_squared_error: 0.1760 - val_mean_absolute_error: 0.0851\n",
      "Epoch 13/100\n",
      "75/75 [==============================] - 1s 18ms/step - loss: 0.0779 - root_mean_squared_error: 0.1699 - mean_absolute_error: 0.0779 - val_loss: 0.0829 - val_root_mean_squared_error: 0.1709 - val_mean_absolute_error: 0.0829\n",
      "Epoch 14/100\n",
      "75/75 [==============================] - 1s 18ms/step - loss: 0.0756 - root_mean_squared_error: 0.1644 - mean_absolute_error: 0.0756 - val_loss: 0.0803 - val_root_mean_squared_error: 0.1650 - val_mean_absolute_error: 0.0803\n",
      "Epoch 15/100\n",
      "75/75 [==============================] - 1s 18ms/step - loss: 0.0730 - root_mean_squared_error: 0.1586 - mean_absolute_error: 0.0730 - val_loss: 0.0776 - val_root_mean_squared_error: 0.1588 - val_mean_absolute_error: 0.0776\n",
      "Epoch 16/100\n",
      "75/75 [==============================] - 1s 18ms/step - loss: 0.0701 - root_mean_squared_error: 0.1524 - mean_absolute_error: 0.0701 - val_loss: 0.0740 - val_root_mean_squared_error: 0.1524 - val_mean_absolute_error: 0.0740\n",
      "Epoch 17/100\n",
      "75/75 [==============================] - 1s 18ms/step - loss: 0.0666 - root_mean_squared_error: 0.1462 - mean_absolute_error: 0.0666 - val_loss: 0.0705 - val_root_mean_squared_error: 0.1469 - val_mean_absolute_error: 0.0705\n",
      "Epoch 18/100\n",
      "75/75 [==============================] - 1s 18ms/step - loss: 0.0633 - root_mean_squared_error: 0.1413 - mean_absolute_error: 0.0633 - val_loss: 0.0674 - val_root_mean_squared_error: 0.1431 - val_mean_absolute_error: 0.0674\n",
      "Epoch 19/100\n",
      "75/75 [==============================] - 1s 18ms/step - loss: 0.0604 - root_mean_squared_error: 0.1382 - mean_absolute_error: 0.0604 - val_loss: 0.0650 - val_root_mean_squared_error: 0.1403 - val_mean_absolute_error: 0.0650\n",
      "Epoch 20/100\n",
      "75/75 [==============================] - 1s 18ms/step - loss: 0.0579 - root_mean_squared_error: 0.1353 - mean_absolute_error: 0.0579 - val_loss: 0.0623 - val_root_mean_squared_error: 0.1370 - val_mean_absolute_error: 0.0623\n",
      "Epoch 21/100\n",
      "75/75 [==============================] - 1s 18ms/step - loss: 0.0553 - root_mean_squared_error: 0.1316 - mean_absolute_error: 0.0553 - val_loss: 0.0596 - val_root_mean_squared_error: 0.1330 - val_mean_absolute_error: 0.0596\n",
      "Epoch 22/100\n",
      "75/75 [==============================] - 1s 18ms/step - loss: 0.0527 - root_mean_squared_error: 0.1273 - mean_absolute_error: 0.0527 - val_loss: 0.0569 - val_root_mean_squared_error: 0.1286 - val_mean_absolute_error: 0.0569\n",
      "Epoch 23/100\n",
      "75/75 [==============================] - 1s 18ms/step - loss: 0.0504 - root_mean_squared_error: 0.1236 - mean_absolute_error: 0.0504 - val_loss: 0.0548 - val_root_mean_squared_error: 0.1258 - val_mean_absolute_error: 0.0548\n",
      "Epoch 24/100\n",
      "75/75 [==============================] - 1s 18ms/step - loss: 0.0482 - root_mean_squared_error: 0.1217 - mean_absolute_error: 0.0482 - val_loss: 0.0529 - val_root_mean_squared_error: 0.1246 - val_mean_absolute_error: 0.0529\n",
      "Epoch 25/100\n",
      "75/75 [==============================] - 1s 18ms/step - loss: 0.0467 - root_mean_squared_error: 0.1205 - mean_absolute_error: 0.0467 - val_loss: 0.0515 - val_root_mean_squared_error: 0.1234 - val_mean_absolute_error: 0.0515\n",
      "Epoch 26/100\n",
      "75/75 [==============================] - 1s 18ms/step - loss: 0.0458 - root_mean_squared_error: 0.1190 - mean_absolute_error: 0.0458 - val_loss: 0.0509 - val_root_mean_squared_error: 0.1218 - val_mean_absolute_error: 0.0509\n",
      "Epoch 27/100\n",
      "75/75 [==============================] - 1s 18ms/step - loss: 0.0451 - root_mean_squared_error: 0.1176 - mean_absolute_error: 0.0451 - val_loss: 0.0503 - val_root_mean_squared_error: 0.1206 - val_mean_absolute_error: 0.0503\n",
      "Epoch 28/100\n",
      "75/75 [==============================] - 1s 18ms/step - loss: 0.0444 - root_mean_squared_error: 0.1162 - mean_absolute_error: 0.0444 - val_loss: 0.0496 - val_root_mean_squared_error: 0.1191 - val_mean_absolute_error: 0.0496\n",
      "Epoch 29/100\n",
      "75/75 [==============================] - 1s 18ms/step - loss: 0.0438 - root_mean_squared_error: 0.1148 - mean_absolute_error: 0.0438 - val_loss: 0.0489 - val_root_mean_squared_error: 0.1179 - val_mean_absolute_error: 0.0489\n",
      "Epoch 30/100\n",
      "75/75 [==============================] - 1s 18ms/step - loss: 0.0432 - root_mean_squared_error: 0.1136 - mean_absolute_error: 0.0432 - val_loss: 0.0484 - val_root_mean_squared_error: 0.1167 - val_mean_absolute_error: 0.0484\n",
      "Epoch 31/100\n",
      "75/75 [==============================] - 1s 18ms/step - loss: 0.0426 - root_mean_squared_error: 0.1127 - mean_absolute_error: 0.0426 - val_loss: 0.0480 - val_root_mean_squared_error: 0.1160 - val_mean_absolute_error: 0.0480\n",
      "Epoch 32/100\n",
      "75/75 [==============================] - 1s 18ms/step - loss: 0.0421 - root_mean_squared_error: 0.1119 - mean_absolute_error: 0.0421 - val_loss: 0.0476 - val_root_mean_squared_error: 0.1152 - val_mean_absolute_error: 0.0476\n",
      "Epoch 33/100\n",
      "75/75 [==============================] - 1s 18ms/step - loss: 0.0416 - root_mean_squared_error: 0.1113 - mean_absolute_error: 0.0416 - val_loss: 0.0471 - val_root_mean_squared_error: 0.1148 - val_mean_absolute_error: 0.0471\n",
      "Epoch 34/100\n",
      "75/75 [==============================] - 1s 18ms/step - loss: 0.0412 - root_mean_squared_error: 0.1108 - mean_absolute_error: 0.0412 - val_loss: 0.0466 - val_root_mean_squared_error: 0.1144 - val_mean_absolute_error: 0.0466\n",
      "Epoch 35/100\n",
      "75/75 [==============================] - 1s 18ms/step - loss: 0.0408 - root_mean_squared_error: 0.1104 - mean_absolute_error: 0.0408 - val_loss: 0.0462 - val_root_mean_squared_error: 0.1140 - val_mean_absolute_error: 0.0462\n",
      "Epoch 36/100\n",
      "75/75 [==============================] - 1s 18ms/step - loss: 0.0404 - root_mean_squared_error: 0.1100 - mean_absolute_error: 0.0404 - val_loss: 0.0460 - val_root_mean_squared_error: 0.1135 - val_mean_absolute_error: 0.0460\n",
      "Epoch 37/100\n",
      "75/75 [==============================] - 1s 18ms/step - loss: 0.0400 - root_mean_squared_error: 0.1096 - mean_absolute_error: 0.0400 - val_loss: 0.0454 - val_root_mean_squared_error: 0.1130 - val_mean_absolute_error: 0.0454\n",
      "Epoch 38/100\n",
      "75/75 [==============================] - 1s 18ms/step - loss: 0.0396 - root_mean_squared_error: 0.1091 - mean_absolute_error: 0.0396 - val_loss: 0.0447 - val_root_mean_squared_error: 0.1124 - val_mean_absolute_error: 0.0447\n",
      "Epoch 39/100\n",
      "75/75 [==============================] - 1s 18ms/step - loss: 0.0391 - root_mean_squared_error: 0.1086 - mean_absolute_error: 0.0391 - val_loss: 0.0447 - val_root_mean_squared_error: 0.1120 - val_mean_absolute_error: 0.0447\n",
      "Epoch 40/100\n",
      "75/75 [==============================] - 1s 18ms/step - loss: 0.0387 - root_mean_squared_error: 0.1080 - mean_absolute_error: 0.0387 - val_loss: 0.0438 - val_root_mean_squared_error: 0.1113 - val_mean_absolute_error: 0.0438\n",
      "Epoch 41/100\n",
      "75/75 [==============================] - 1s 18ms/step - loss: 0.0382 - root_mean_squared_error: 0.1075 - mean_absolute_error: 0.0382 - val_loss: 0.0435 - val_root_mean_squared_error: 0.1108 - val_mean_absolute_error: 0.0435\n",
      "Epoch 42/100\n",
      "75/75 [==============================] - 1s 18ms/step - loss: 0.0377 - root_mean_squared_error: 0.1069 - mean_absolute_error: 0.0377 - val_loss: 0.0429 - val_root_mean_squared_error: 0.1102 - val_mean_absolute_error: 0.0429\n",
      "Epoch 43/100\n",
      "75/75 [==============================] - 1s 18ms/step - loss: 0.0371 - root_mean_squared_error: 0.1063 - mean_absolute_error: 0.0371 - val_loss: 0.0421 - val_root_mean_squared_error: 0.1095 - val_mean_absolute_error: 0.0421\n",
      "Epoch 44/100\n",
      "75/75 [==============================] - 1s 18ms/step - loss: 0.0365 - root_mean_squared_error: 0.1057 - mean_absolute_error: 0.0365 - val_loss: 0.0416 - val_root_mean_squared_error: 0.1090 - val_mean_absolute_error: 0.0416\n",
      "Epoch 45/100\n",
      "75/75 [==============================] - 1s 18ms/step - loss: 0.0360 - root_mean_squared_error: 0.1051 - mean_absolute_error: 0.0360 - val_loss: 0.0414 - val_root_mean_squared_error: 0.1084 - val_mean_absolute_error: 0.0414\n",
      "Epoch 46/100\n",
      "75/75 [==============================] - 1s 18ms/step - loss: 0.0353 - root_mean_squared_error: 0.1044 - mean_absolute_error: 0.0353 - val_loss: 0.0405 - val_root_mean_squared_error: 0.1073 - val_mean_absolute_error: 0.0405\n",
      "Epoch 47/100\n",
      "75/75 [==============================] - 1s 18ms/step - loss: 0.0347 - root_mean_squared_error: 0.1034 - mean_absolute_error: 0.0347 - val_loss: 0.0398 - val_root_mean_squared_error: 0.1061 - val_mean_absolute_error: 0.0398\n",
      "Epoch 48/100\n",
      "75/75 [==============================] - 1s 18ms/step - loss: 0.0340 - root_mean_squared_error: 0.1019 - mean_absolute_error: 0.0340 - val_loss: 0.0390 - val_root_mean_squared_error: 0.1042 - val_mean_absolute_error: 0.0390\n",
      "Epoch 49/100\n",
      "75/75 [==============================] - 1s 18ms/step - loss: 0.0333 - root_mean_squared_error: 0.1000 - mean_absolute_error: 0.0333 - val_loss: 0.0385 - val_root_mean_squared_error: 0.1020 - val_mean_absolute_error: 0.0385\n",
      "Epoch 50/100\n",
      "75/75 [==============================] - 1s 18ms/step - loss: 0.0324 - root_mean_squared_error: 0.0979 - mean_absolute_error: 0.0324 - val_loss: 0.0376 - val_root_mean_squared_error: 0.0999 - val_mean_absolute_error: 0.0376\n",
      "Epoch 51/100\n",
      "75/75 [==============================] - 1s 18ms/step - loss: 0.0315 - root_mean_squared_error: 0.0961 - mean_absolute_error: 0.0315 - val_loss: 0.0368 - val_root_mean_squared_error: 0.0984 - val_mean_absolute_error: 0.0368\n",
      "Epoch 52/100\n",
      "75/75 [==============================] - 1s 18ms/step - loss: 0.0306 - root_mean_squared_error: 0.0948 - mean_absolute_error: 0.0306 - val_loss: 0.0360 - val_root_mean_squared_error: 0.0973 - val_mean_absolute_error: 0.0360\n",
      "Epoch 53/100\n",
      "75/75 [==============================] - 1s 18ms/step - loss: 0.0298 - root_mean_squared_error: 0.0940 - mean_absolute_error: 0.0298 - val_loss: 0.0353 - val_root_mean_squared_error: 0.0969 - val_mean_absolute_error: 0.0353\n",
      "Epoch 54/100\n",
      "75/75 [==============================] - 1s 18ms/step - loss: 0.0292 - root_mean_squared_error: 0.0936 - mean_absolute_error: 0.0292 - val_loss: 0.0349 - val_root_mean_squared_error: 0.0966 - val_mean_absolute_error: 0.0349\n",
      "Epoch 55/100\n",
      "75/75 [==============================] - 1s 18ms/step - loss: 0.0289 - root_mean_squared_error: 0.0933 - mean_absolute_error: 0.0289 - val_loss: 0.0344 - val_root_mean_squared_error: 0.0963 - val_mean_absolute_error: 0.0344\n",
      "Epoch 56/100\n",
      "75/75 [==============================] - 1s 18ms/step - loss: 0.0285 - root_mean_squared_error: 0.0929 - mean_absolute_error: 0.0285 - val_loss: 0.0338 - val_root_mean_squared_error: 0.0958 - val_mean_absolute_error: 0.0338\n",
      "Epoch 57/100\n",
      "75/75 [==============================] - 1s 18ms/step - loss: 0.0282 - root_mean_squared_error: 0.0926 - mean_absolute_error: 0.0282 - val_loss: 0.0338 - val_root_mean_squared_error: 0.0955 - val_mean_absolute_error: 0.0338\n",
      "Epoch 58/100\n",
      "75/75 [==============================] - 1s 18ms/step - loss: 0.0280 - root_mean_squared_error: 0.0921 - mean_absolute_error: 0.0280 - val_loss: 0.0334 - val_root_mean_squared_error: 0.0951 - val_mean_absolute_error: 0.0334\n",
      "Epoch 59/100\n",
      "75/75 [==============================] - 1s 18ms/step - loss: 0.0277 - root_mean_squared_error: 0.0917 - mean_absolute_error: 0.0277 - val_loss: 0.0327 - val_root_mean_squared_error: 0.0947 - val_mean_absolute_error: 0.0327\n",
      "Epoch 60/100\n",
      "75/75 [==============================] - 1s 18ms/step - loss: 0.0275 - root_mean_squared_error: 0.0913 - mean_absolute_error: 0.0275 - val_loss: 0.0327 - val_root_mean_squared_error: 0.0942 - val_mean_absolute_error: 0.0327\n",
      "Epoch 61/100\n",
      "75/75 [==============================] - 1s 18ms/step - loss: 0.0272 - root_mean_squared_error: 0.0908 - mean_absolute_error: 0.0272 - val_loss: 0.0327 - val_root_mean_squared_error: 0.0938 - val_mean_absolute_error: 0.0327\n",
      "Epoch 62/100\n",
      "75/75 [==============================] - 1s 18ms/step - loss: 0.0270 - root_mean_squared_error: 0.0902 - mean_absolute_error: 0.0270 - val_loss: 0.0322 - val_root_mean_squared_error: 0.0933 - val_mean_absolute_error: 0.0322\n",
      "Epoch 63/100\n",
      "75/75 [==============================] - 1s 18ms/step - loss: 0.0268 - root_mean_squared_error: 0.0897 - mean_absolute_error: 0.0268 - val_loss: 0.0315 - val_root_mean_squared_error: 0.0927 - val_mean_absolute_error: 0.0315\n",
      "Epoch 64/100\n",
      "75/75 [==============================] - 1s 18ms/step - loss: 0.0266 - root_mean_squared_error: 0.0891 - mean_absolute_error: 0.0266 - val_loss: 0.0314 - val_root_mean_squared_error: 0.0922 - val_mean_absolute_error: 0.0314\n",
      "Epoch 65/100\n",
      "75/75 [==============================] - 1s 18ms/step - loss: 0.0263 - root_mean_squared_error: 0.0885 - mean_absolute_error: 0.0263 - val_loss: 0.0316 - val_root_mean_squared_error: 0.0916 - val_mean_absolute_error: 0.0316\n",
      "Epoch 66/100\n",
      "75/75 [==============================] - 1s 18ms/step - loss: 0.0261 - root_mean_squared_error: 0.0880 - mean_absolute_error: 0.0261 - val_loss: 0.0314 - val_root_mean_squared_error: 0.0910 - val_mean_absolute_error: 0.0314\n",
      "Epoch 67/100\n",
      "75/75 [==============================] - 1s 18ms/step - loss: 0.0260 - root_mean_squared_error: 0.0874 - mean_absolute_error: 0.0260 - val_loss: 0.0309 - val_root_mean_squared_error: 0.0905 - val_mean_absolute_error: 0.0309\n",
      "Epoch 68/100\n",
      "75/75 [==============================] - 1s 18ms/step - loss: 0.0258 - root_mean_squared_error: 0.0867 - mean_absolute_error: 0.0258 - val_loss: 0.0307 - val_root_mean_squared_error: 0.0899 - val_mean_absolute_error: 0.0307\n",
      "Epoch 69/100\n",
      "75/75 [==============================] - 1s 18ms/step - loss: 0.0256 - root_mean_squared_error: 0.0861 - mean_absolute_error: 0.0256 - val_loss: 0.0303 - val_root_mean_squared_error: 0.0892 - val_mean_absolute_error: 0.0303\n",
      "Epoch 70/100\n",
      "75/75 [==============================] - 1s 18ms/step - loss: 0.0254 - root_mean_squared_error: 0.0854 - mean_absolute_error: 0.0254 - val_loss: 0.0302 - val_root_mean_squared_error: 0.0885 - val_mean_absolute_error: 0.0302\n",
      "Epoch 71/100\n",
      "75/75 [==============================] - 1s 18ms/step - loss: 0.0252 - root_mean_squared_error: 0.0847 - mean_absolute_error: 0.0252 - val_loss: 0.0298 - val_root_mean_squared_error: 0.0878 - val_mean_absolute_error: 0.0298\n",
      "Epoch 72/100\n",
      "75/75 [==============================] - 1s 18ms/step - loss: 0.0250 - root_mean_squared_error: 0.0840 - mean_absolute_error: 0.0250 - val_loss: 0.0299 - val_root_mean_squared_error: 0.0871 - val_mean_absolute_error: 0.0299\n",
      "Epoch 73/100\n",
      "75/75 [==============================] - 1s 18ms/step - loss: 0.0248 - root_mean_squared_error: 0.0832 - mean_absolute_error: 0.0248 - val_loss: 0.0295 - val_root_mean_squared_error: 0.0862 - val_mean_absolute_error: 0.0295\n",
      "Epoch 74/100\n",
      "75/75 [==============================] - 1s 18ms/step - loss: 0.0246 - root_mean_squared_error: 0.0824 - mean_absolute_error: 0.0246 - val_loss: 0.0290 - val_root_mean_squared_error: 0.0854 - val_mean_absolute_error: 0.0290\n",
      "Epoch 75/100\n",
      "75/75 [==============================] - 1s 18ms/step - loss: 0.0244 - root_mean_squared_error: 0.0816 - mean_absolute_error: 0.0244 - val_loss: 0.0290 - val_root_mean_squared_error: 0.0846 - val_mean_absolute_error: 0.0290\n",
      "Epoch 76/100\n",
      "75/75 [==============================] - 1s 18ms/step - loss: 0.0242 - root_mean_squared_error: 0.0807 - mean_absolute_error: 0.0242 - val_loss: 0.0284 - val_root_mean_squared_error: 0.0836 - val_mean_absolute_error: 0.0284\n",
      "Epoch 77/100\n",
      "75/75 [==============================] - 1s 18ms/step - loss: 0.0240 - root_mean_squared_error: 0.0797 - mean_absolute_error: 0.0240 - val_loss: 0.0285 - val_root_mean_squared_error: 0.0825 - val_mean_absolute_error: 0.0285\n",
      "Epoch 78/100\n",
      "75/75 [==============================] - 1s 18ms/step - loss: 0.0237 - root_mean_squared_error: 0.0787 - mean_absolute_error: 0.0237 - val_loss: 0.0279 - val_root_mean_squared_error: 0.0814 - val_mean_absolute_error: 0.0279\n",
      "Epoch 79/100\n",
      "75/75 [==============================] - 1s 18ms/step - loss: 0.0235 - root_mean_squared_error: 0.0776 - mean_absolute_error: 0.0235 - val_loss: 0.0279 - val_root_mean_squared_error: 0.0803 - val_mean_absolute_error: 0.0279\n",
      "Epoch 80/100\n",
      "75/75 [==============================] - 1s 18ms/step - loss: 0.0232 - root_mean_squared_error: 0.0764 - mean_absolute_error: 0.0232 - val_loss: 0.0273 - val_root_mean_squared_error: 0.0789 - val_mean_absolute_error: 0.0273\n",
      "Epoch 81/100\n",
      "75/75 [==============================] - 1s 18ms/step - loss: 0.0229 - root_mean_squared_error: 0.0751 - mean_absolute_error: 0.0229 - val_loss: 0.0269 - val_root_mean_squared_error: 0.0776 - val_mean_absolute_error: 0.0269\n",
      "Epoch 82/100\n",
      "75/75 [==============================] - 1s 18ms/step - loss: 0.0225 - root_mean_squared_error: 0.0739 - mean_absolute_error: 0.0225 - val_loss: 0.0266 - val_root_mean_squared_error: 0.0762 - val_mean_absolute_error: 0.0266\n",
      "Epoch 83/100\n",
      "75/75 [==============================] - 1s 18ms/step - loss: 0.0221 - root_mean_squared_error: 0.0726 - mean_absolute_error: 0.0221 - val_loss: 0.0263 - val_root_mean_squared_error: 0.0748 - val_mean_absolute_error: 0.0263\n",
      "Epoch 84/100\n",
      "75/75 [==============================] - 1s 18ms/step - loss: 0.0217 - root_mean_squared_error: 0.0714 - mean_absolute_error: 0.0217 - val_loss: 0.0255 - val_root_mean_squared_error: 0.0737 - val_mean_absolute_error: 0.0255\n",
      "Epoch 85/100\n",
      "75/75 [==============================] - 1s 18ms/step - loss: 0.0213 - root_mean_squared_error: 0.0704 - mean_absolute_error: 0.0213 - val_loss: 0.0251 - val_root_mean_squared_error: 0.0726 - val_mean_absolute_error: 0.0251\n",
      "Epoch 86/100\n",
      "75/75 [==============================] - 1s 18ms/step - loss: 0.0209 - root_mean_squared_error: 0.0695 - mean_absolute_error: 0.0209 - val_loss: 0.0251 - val_root_mean_squared_error: 0.0719 - val_mean_absolute_error: 0.0251\n",
      "Epoch 87/100\n",
      "75/75 [==============================] - 1s 18ms/step - loss: 0.0205 - root_mean_squared_error: 0.0688 - mean_absolute_error: 0.0205 - val_loss: 0.0246 - val_root_mean_squared_error: 0.0712 - val_mean_absolute_error: 0.0246\n",
      "Epoch 88/100\n",
      "75/75 [==============================] - 1s 18ms/step - loss: 0.0201 - root_mean_squared_error: 0.0682 - mean_absolute_error: 0.0201 - val_loss: 0.0242 - val_root_mean_squared_error: 0.0707 - val_mean_absolute_error: 0.0242\n",
      "Epoch 89/100\n",
      "75/75 [==============================] - 1s 18ms/step - loss: 0.0198 - root_mean_squared_error: 0.0677 - mean_absolute_error: 0.0198 - val_loss: 0.0237 - val_root_mean_squared_error: 0.0701 - val_mean_absolute_error: 0.0237\n",
      "Epoch 90/100\n",
      "75/75 [==============================] - 1s 18ms/step - loss: 0.0195 - root_mean_squared_error: 0.0672 - mean_absolute_error: 0.0195 - val_loss: 0.0239 - val_root_mean_squared_error: 0.0696 - val_mean_absolute_error: 0.0239\n",
      "Epoch 91/100\n",
      "75/75 [==============================] - 1s 18ms/step - loss: 0.0192 - root_mean_squared_error: 0.0668 - mean_absolute_error: 0.0192 - val_loss: 0.0235 - val_root_mean_squared_error: 0.0691 - val_mean_absolute_error: 0.0235\n",
      "Epoch 92/100\n",
      "75/75 [==============================] - 1s 19ms/step - loss: 0.0190 - root_mean_squared_error: 0.0663 - mean_absolute_error: 0.0190 - val_loss: 0.0234 - val_root_mean_squared_error: 0.0687 - val_mean_absolute_error: 0.0234\n",
      "Epoch 93/100\n",
      "75/75 [==============================] - 1s 19ms/step - loss: 0.0189 - root_mean_squared_error: 0.0658 - mean_absolute_error: 0.0189 - val_loss: 0.0232 - val_root_mean_squared_error: 0.0682 - val_mean_absolute_error: 0.0232\n",
      "Epoch 94/100\n",
      "75/75 [==============================] - 1s 19ms/step - loss: 0.0187 - root_mean_squared_error: 0.0653 - mean_absolute_error: 0.0187 - val_loss: 0.0228 - val_root_mean_squared_error: 0.0677 - val_mean_absolute_error: 0.0228\n",
      "Epoch 95/100\n",
      "75/75 [==============================] - 1s 19ms/step - loss: 0.0185 - root_mean_squared_error: 0.0648 - mean_absolute_error: 0.0185 - val_loss: 0.0229 - val_root_mean_squared_error: 0.0671 - val_mean_absolute_error: 0.0229\n",
      "Epoch 96/100\n",
      "75/75 [==============================] - 1s 19ms/step - loss: 0.0184 - root_mean_squared_error: 0.0642 - mean_absolute_error: 0.0184 - val_loss: 0.0226 - val_root_mean_squared_error: 0.0666 - val_mean_absolute_error: 0.0226\n",
      "Epoch 97/100\n",
      "75/75 [==============================] - 1s 19ms/step - loss: 0.0182 - root_mean_squared_error: 0.0636 - mean_absolute_error: 0.0182 - val_loss: 0.0224 - val_root_mean_squared_error: 0.0661 - val_mean_absolute_error: 0.0224\n",
      "Epoch 98/100\n",
      "75/75 [==============================] - 1s 19ms/step - loss: 0.0180 - root_mean_squared_error: 0.0630 - mean_absolute_error: 0.0180 - val_loss: 0.0220 - val_root_mean_squared_error: 0.0655 - val_mean_absolute_error: 0.0220\n",
      "Epoch 99/100\n",
      "75/75 [==============================] - 1s 19ms/step - loss: 0.0179 - root_mean_squared_error: 0.0624 - mean_absolute_error: 0.0179 - val_loss: 0.0218 - val_root_mean_squared_error: 0.0650 - val_mean_absolute_error: 0.0218\n",
      "Epoch 100/100\n",
      "75/75 [==============================] - 1s 18ms/step - loss: 0.0177 - root_mean_squared_error: 0.0618 - mean_absolute_error: 0.0177 - val_loss: 0.0218 - val_root_mean_squared_error: 0.0644 - val_mean_absolute_error: 0.0218\n"
     ]
    }
   ],
   "source": [
    "early_stopping = tf.keras.callbacks.EarlyStopping(monitor='val_loss',\n",
    "                                                  min_delta=0.001,\n",
    "                                                  patience=10,\n",
    "                                                  verbose=0,\n",
    "                                                  mode='auto',\n",
    "                                                  restore_best_weights=True)\n",
    "history = model.fit(X_train,\n",
    "                    X_train,\n",
    "                    epochs=100,\n",
    "                    batch_size=20000,\n",
    "                    validation_data=(X_test, X_test),\n",
    "                    callbacks=[early_stopping],\n",
    "                    verbose=1)"
   ]
  },
  {
   "cell_type": "code",
   "execution_count": 21,
   "id": "fc9a865f-2055-46f4-92f4-7ca852bfa236",
   "metadata": {},
   "outputs": [
    {
     "name": "stdout",
     "output_type": "stream",
     "text": [
      "Minimal Loss: 0.0218\n"
     ]
    },
    {
     "data": {
      "image/png": "[encoded data removed]",
      "text/plain": [
       "<Figure size 1000x500 with 1 Axes>"
      ]
     },
     "metadata": {},
     "output_type": "display_data"
    }
   ],
   "source": [
    "loss = history.history['loss']\n",
    "val_loss = history.history['val_loss']\n",
    "min_loss = min(val_loss)\n",
    "print(f'Minimal Loss: {min_loss:.4f}')\n",
    "plt.figure(figsize=(10,5))\n",
    "plt.plot(loss, 'r', label='Loss of training data')\n",
    "plt.plot(val_loss, 'b-', label='Loss of validation data')\n",
    "plt.title('Model Loss')\n",
    "plt.ylabel('Loss')\n",
    "plt.xlabel('Training Epoch')\n",
    "plt.legend()\n",
    "plt.show()"
   ]
  },
  {
   "cell_type": "markdown",
   "id": "5f433015-020d-4a1a-88cd-a4de50c14118",
   "metadata": {},
   "source": [
    "## 5. Evaluate Model"
   ]
  },
  {
   "cell_type": "code",
   "execution_count": 22,
   "id": "2343193d-fbd6-443a-bf97-bffdb84d68f8",
   "metadata": {},
   "outputs": [
    {
     "name": "stdout",
     "output_type": "stream",
     "text": [
      "5473/5473 [==============================] - 5s 957us/step\n"
     ]
    }
   ],
   "source": [
    "predictions = model.predict(X_val, verbose=1)"
   ]
  },
  {
   "cell_type": "code",
   "execution_count": 23,
   "id": "238be422-a652-4316-ad36-451307ff9068",
   "metadata": {},
   "outputs": [],
   "source": [
    "def reconstr_error(original, reconstr):\n",
    "    errors = np.abs(original - reconstr)\n",
    "    return errors"
   ]
  },
  {
   "cell_type": "code",
   "execution_count": 24,
   "id": "86465704-00a8-40cb-af7f-02a37751db0f",
   "metadata": {},
   "outputs": [],
   "source": [
    "errors = reconstr_error(X_val, predictions)"
   ]
  },
  {
   "cell_type": "code",
   "execution_count": 25,
   "id": "db19d91b-d6a9-4b01-8b3a-55155a871dd2",
   "metadata": {},
   "outputs": [
    {
     "name": "stdout",
     "output_type": "stream",
     "text": [
      "(175131, 2, 11)\n"
     ]
    }
   ],
   "source": [
    "print(errors.shape)"
   ]
  },
  {
   "cell_type": "code",
   "execution_count": 26,
   "id": "f76ad86b-8000-42d9-9044-920021460a54",
   "metadata": {},
   "outputs": [
    {
     "name": "stdout",
     "output_type": "stream",
     "text": [
      "(175131, 11)\n"
     ]
    }
   ],
   "source": [
    "errors = errors.sum(axis=1)\n",
    "print(errors.shape)"
   ]
  },
  {
   "cell_type": "code",
   "execution_count": 27,
   "id": "49425b06-d78c-477c-b0ee-fd967aeac5e3",
   "metadata": {},
   "outputs": [
    {
     "name": "stdout",
     "output_type": "stream",
     "text": [
      "(175131, 1)\n"
     ]
    }
   ],
   "source": [
    "errors = errors.sum(axis=1)\n",
    "errors = errors.reshape(-1, 1)\n",
    "print(errors.shape)"
   ]
  },
  {
   "cell_type": "code",
   "execution_count": 28,
   "id": "274f525d-183a-40b8-bc76-697e07bb23de",
   "metadata": {},
   "outputs": [
    {
     "name": "stdout",
     "output_type": "stream",
     "text": [
      "Average precision score for validation: 0.9494\n"
     ]
    }
   ],
   "source": [
    "# average precision score test\n",
    "aps_val = average_precision_score(y_val_class, errors)\n",
    "print(f'Average precision score for validation: {aps_val:.4f}')"
   ]
  },
  {
   "cell_type": "code",
   "execution_count": 29,
   "id": "0b31751d-dde7-44d4-aa80-1dcbc64f0afb",
   "metadata": {},
   "outputs": [
    {
     "data": {
      "image/png": "[encoded data removed]",
      "text/plain": [
       "<Figure size 640x480 with 1 Axes>"
      ]
     },
     "metadata": {},
     "output_type": "display_data"
    }
   ],
   "source": [
    "# precision-recall curve for test results\n",
    "precision, recall, thresholds = precision_recall_curve(y_val_class, errors)\n",
    "plt.title(f'Precision-Recall Curve. Average precision: {aps_val:.2f}')\n",
    "plt.xlabel('Recall')\n",
    "plt.xlim([0, 1.1])\n",
    "plt.ylim([0, 1.1])\n",
    "plt.ylabel('Precision')\n",
    "#plt.ylim([0, 1.1])\n",
    "#plt.xlim([0, 1.0])\n",
    "plt.plot(recall, precision)\n",
    "plt.show()"
   ]
  },
  {
   "cell_type": "code",
   "execution_count": 30,
   "id": "affd7b59-16f7-4f5e-80d5-3acf1caa3263",
   "metadata": {},
   "outputs": [
    {
     "data": {
      "image/png": "[encoded data removed]",
      "text/plain": [
       "<Figure size 640x480 with 1 Axes>"
      ]
     },
     "metadata": {},
     "output_type": "display_data"
    }
   ],
   "source": [
    "# receiver operational characteristic\n",
    "fpr, tpr, thresholds = roc_curve(y_val_class, errors)\n",
    "auROC = auc(fpr, tpr)\n",
    "plt.figure()\n",
    "plt.title(f'ROCurve. AuROC={auROC:.2f}')\n",
    "plt.plot(fpr, tpr, color='r', lw=2)\n",
    "plt.xlabel('False Positive Rate')\n",
    "plt.ylabel('True Positive Rate')\n",
    "plt.plot([0,1], [0,1], color='k', lw=2, linestyle='--')\n",
    "plt.show()"
   ]
  },
  {
   "cell_type": "code",
   "execution_count": null,
   "id": "2162ee9d-71c5-4205-8b26-bef907ca6b28",
   "metadata": {},
   "outputs": [],
   "source": []
  }
 ],
 "metadata": {
  "kernelspec": {
   "display_name": "Python 3 (ipykernel)",
   "language": "python",
   "name": "python3"
  },
  "language_info": {
   "codemirror_mode": {
    "name": "ipython",
    "version": 3
   },
   "file_extension": ".py",
   "mimetype": "text/x-python",
   "name": "python",
   "nbconvert_exporter": "python",
   "pygments_lexer": "ipython3",
   "version": "3.10.12"
  }
 },
 "nbformat": 4,
 "nbformat_minor": 5
}
