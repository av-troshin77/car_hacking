{
 "cells": [
  {
   "cell_type": "markdown",
   "id": "77849529-5d63-41fe-a65b-b41b81ada5b5",
   "metadata": {},
   "source": [
    "# LSTM Autoendcoder for Anomaly Detection"
   ]
  },
  {
   "cell_type": "code",
   "execution_count": 1,
   "id": "3dcd9866-bf72-4cd3-b32a-e1cfafd7c97c",
   "metadata": {
    "scrolled": true
   },
   "outputs": [
    {
     "name": "stderr",
     "output_type": "stream",
     "text": [
      "2024-04-04 18:55:06.014127: I tensorflow/core/util/port.cc:113] oneDNN custom operations are on. You may see slightly different numerical results due to floating-point round-off errors from different computation orders. To turn them off, set the environment variable `TF_ENABLE_ONEDNN_OPTS=0`.\n",
      "2024-04-04 18:55:06.031887: I tensorflow/core/platform/cpu_feature_guard.cc:182] This TensorFlow binary is optimized to use available CPU instructions in performance-critical operations.\n",
      "To enable the following instructions: AVX2 AVX_VNNI FMA, in other operations, rebuild TensorFlow with the appropriate compiler flags.\n"
     ]
    }
   ],
   "source": [
    "import pandas as pd\n",
    "import numpy as np\n",
    "from sklearn import preprocessing as pp\n",
    "import tensorflow as tf\n",
    "from sklearn.model_selection import train_test_split\n",
    "from sklearn.metrics import roc_curve\n",
    "from sklearn.metrics import average_precision_score\n",
    "from sklearn.metrics import precision_recall_curve\n",
    "from sklearn.metrics import auc\n",
    "import matplotlib.pyplot as plt\n",
    "from sklearn.metrics import mean_squared_error"
   ]
  },
  {
   "cell_type": "code",
   "execution_count": 2,
   "id": "8ea1c903-2eec-45f1-bd93-1e975fb52664",
   "metadata": {},
   "outputs": [],
   "source": [
    "data = pd.read_csv('../Datasets/Car_Hacking_Challenge_Dataset/0_Preliminary/1_Submission/Pre_submit_D.csv')\n",
    "#data = pd.read_csv('../Datasets/Car_Hacking_Challenge_Dataset/0_Preliminary/1_Submission/Pre_submit_S.csv')"
   ]
  },
  {
   "cell_type": "markdown",
   "id": "e3b89e24-4ae0-496e-9c87-9f80e5e8c24c",
   "metadata": {},
   "source": [
    "## Data Preprocessing Function"
   ]
  },
  {
   "cell_type": "code",
   "execution_count": 3,
   "id": "e08a2298-cea7-47d1-8bea-425041c42407",
   "metadata": {},
   "outputs": [],
   "source": [
    "def preprocessing(data):\n",
    "    \n",
    "    # get intervals from original dataframe\n",
    "    df = pd.DataFrame()\n",
    "    df['Intervals']=data['Timestamp'].diff()\n",
    "    \n",
    "    # add two columns \n",
    "    df[['Arbitration_ID', 'DLC']] = data[['Arbitration_ID', 'DLC']]\n",
    "    df['Arbitration_ID'] = df['Arbitration_ID'].apply(int, base=16)\n",
    "    \n",
    "    # split Data column into eight colums and add them to a new dataframe\n",
    "    col_list = ['D1', 'D2', 'D3', 'D4', 'D5', 'D6', 'D7', 'D8']\n",
    "    data_list = pd.DataFrame()\n",
    "    data_list[col_list] = data['Data'].str.split(' ', expand=True)\n",
    "    \n",
    "    # fill NaNs with string \n",
    "    data_list.fillna('00', inplace=True)\n",
    "\n",
    "    # convert hex-strings into integers \n",
    "    for d in col_list:\n",
    "        data_list[d] = data_list[d].apply(int, base=16)\n",
    "\n",
    "    # add data to intervals and fill NaNs with zerous\n",
    "    df[col_list] = data_list\n",
    "    df.fillna(0, inplace=True)\n",
    "\n",
    "    # scale the data\n",
    "    scaler = pp.MinMaxScaler()\n",
    "    df = scaler.fit_transform(df)\n",
    "    df = pd.DataFrame(df)\n",
    "    \n",
    "\n",
    "    # get labels\n",
    "    labels = pd.DataFrame()\n",
    "    labels['Class'] = data['Class']\n",
    "\n",
    "    # replace strings with numbers\n",
    "    labels = labels.replace(to_replace='Normal', value=0)\n",
    "    labels = labels.replace(to_replace='Attack', value=1)\n",
    "\n",
    "    return df, labels"
   ]
  },
  {
   "cell_type": "markdown",
   "id": "a140b0f9-62ed-49d3-a32d-b365c963de49",
   "metadata": {},
   "source": [
    "## 2.Train-Test-Validataion Split"
   ]
  },
  {
   "cell_type": "code",
   "execution_count": 4,
   "id": "c0f2eebf-6797-41b0-8776-154a14edd062",
   "metadata": {},
   "outputs": [],
   "source": [
    "d_train, d_val, = train_test_split(data, shuffle=False, test_size=0.1)\n",
    "d_train, d_test, = train_test_split(data, shuffle=False, test_size=0.15)"
   ]
  },
  {
   "cell_type": "code",
   "execution_count": 5,
   "id": "71ee9457-858f-45ab-9226-709ab67d7e2f",
   "metadata": {},
   "outputs": [],
   "source": [
    "# remove anomaliest from train data \n",
    "#d_train = d_train[d_train.Class != 'Attack']"
   ]
  },
  {
   "cell_type": "code",
   "execution_count": 6,
   "id": "07a4eda2-1e1b-41c3-9ba6-6a477a2d1fe9",
   "metadata": {},
   "outputs": [
    {
     "data": {
      "text/plain": [
       "(1700623, 11)"
      ]
     },
     "execution_count": 6,
     "metadata": {},
     "output_type": "execute_result"
    }
   ],
   "source": [
    "X_train, y_train = preprocessing(d_train)\n",
    "X_train.shape"
   ]
  },
  {
   "cell_type": "code",
   "execution_count": 7,
   "id": "9f6acf78-d665-4e5e-b239-42181f2da58c",
   "metadata": {
    "scrolled": true
   },
   "outputs": [
    {
     "data": {
      "text/plain": [
       "(300110, 1)"
      ]
     },
     "execution_count": 7,
     "metadata": {},
     "output_type": "execute_result"
    }
   ],
   "source": [
    "X_test, y_test = preprocessing(d_test)\n",
    "y_test.shape"
   ]
  },
  {
   "cell_type": "code",
   "execution_count": 8,
   "id": "df9725f6-24dd-432d-94c2-32edf67762c8",
   "metadata": {},
   "outputs": [
    {
     "data": {
      "text/plain": [
       "(200074, 1)"
      ]
     },
     "execution_count": 8,
     "metadata": {},
     "output_type": "execute_result"
    }
   ],
   "source": [
    "X_val, y_val = preprocessing(d_val)\n",
    "y_val.shape"
   ]
  },
  {
   "cell_type": "code",
   "execution_count": 9,
   "id": "86ee870a-4815-49eb-b83c-73f29ef9e865",
   "metadata": {},
   "outputs": [
    {
     "name": "stdout",
     "output_type": "stream",
     "text": [
      "Number anomalies in train data: 178925\n",
      "Number anomalies in test data: 22762\n",
      "Number anomalies in validation data: 18239\n"
     ]
    }
   ],
   "source": [
    "# anomaly counts\n",
    "train_anomalies = y_train['Class'].sum()\n",
    "print(f'Number anomalies in train data: {train_anomalies}')\n",
    "test_anomalies = y_test['Class'].sum()\n",
    "print(f'Number anomalies in test data: {test_anomalies}')\n",
    "val_anomalies = y_val['Class'].sum()\n",
    "print(f'Number anomalies in validation data: {val_anomalies}')"
   ]
  },
  {
   "cell_type": "markdown",
   "id": "d1a77eb8-a01a-464e-9775-0ab91864ed26",
   "metadata": {},
   "source": [
    "## 3. Convert Data into Sequences"
   ]
  },
  {
   "cell_type": "code",
   "execution_count": 10,
   "id": "72a2bcbb-20c6-4e4c-8052-909207c34625",
   "metadata": {},
   "outputs": [],
   "source": [
    "# convert function \n",
    "def to_sequences(data, n_steps):\n",
    "    samples = list()\n",
    "    for i in range(len(data)):\n",
    "        # find the end \n",
    "        end_ix = i + n_steps\n",
    "        # check if beyond the data\n",
    "        if end_ix > len(data):\n",
    "            break\n",
    "        seq = data[i:end_ix]\n",
    "        samples.append(seq)\n",
    "    return np.array(samples)"
   ]
  },
  {
   "cell_type": "code",
   "execution_count": 11,
   "id": "778bf8ca-3a3f-4169-92bc-845226db8b2d",
   "metadata": {},
   "outputs": [
    {
     "name": "stdout",
     "output_type": "stream",
     "text": [
      "(1700622, 2, 11)\n",
      "(1700622, 2, 1)\n"
     ]
    }
   ],
   "source": [
    "n_steps = 2\n",
    "X_train = to_sequences(X_train, n_steps)\n",
    "y_train = to_sequences(y_train, n_steps)\n",
    "print(X_train.shape)\n",
    "print(y_train.shape)"
   ]
  },
  {
   "cell_type": "code",
   "execution_count": 12,
   "id": "84425c83-0f76-43fa-9539-548892ab3c09",
   "metadata": {},
   "outputs": [
    {
     "name": "stdout",
     "output_type": "stream",
     "text": [
      "(300109, 2, 11)\n",
      "(300109, 2, 1)\n"
     ]
    }
   ],
   "source": [
    "X_test = to_sequences(X_test, n_steps)\n",
    "y_test = to_sequences(y_test, n_steps)\n",
    "print(X_test.shape)\n",
    "print(y_test.shape)"
   ]
  },
  {
   "cell_type": "code",
   "execution_count": 13,
   "id": "294ba726-c5bb-4367-ad7e-0859240f97e3",
   "metadata": {},
   "outputs": [
    {
     "name": "stdout",
     "output_type": "stream",
     "text": [
      "(200073, 2, 11)\n",
      "(200073, 2, 1)\n"
     ]
    }
   ],
   "source": [
    "X_val = to_sequences(X_val, n_steps)\n",
    "y_val = to_sequences(y_val, n_steps)\n",
    "print(X_val.shape)\n",
    "print(y_val.shape)"
   ]
  },
  {
   "cell_type": "code",
   "execution_count": 14,
   "id": "2bd1adcf-5fb0-47af-8beb-04451e88842a",
   "metadata": {},
   "outputs": [
    {
     "data": {
      "text/plain": [
       "(1700622, 1)"
      ]
     },
     "execution_count": 14,
     "metadata": {},
     "output_type": "execute_result"
    }
   ],
   "source": [
    "# convert y-sequences into classes\n",
    "y_train_class = y_train.sum(axis=1)\n",
    "y_train_class = np.array([y==1 if y.sum()>0 else y==0 for y in y_train_class])\n",
    "y_train_class.shape"
   ]
  },
  {
   "cell_type": "code",
   "execution_count": 15,
   "id": "e2c551e2-f948-459a-8830-c7b14d6e6490",
   "metadata": {},
   "outputs": [
    {
     "data": {
      "text/plain": [
       "(300109, 1)"
      ]
     },
     "execution_count": 15,
     "metadata": {},
     "output_type": "execute_result"
    }
   ],
   "source": [
    "# convert y-sequences into classes\n",
    "y_test_class = y_test.sum(axis=1)\n",
    "y_test_class = np.array([y==1 if y.sum()>0 else y==0 for y in y_test_class])\n",
    "y_test_class.shape"
   ]
  },
  {
   "cell_type": "code",
   "execution_count": 16,
   "id": "e98e5e44-6c96-4d8e-b0d1-8468b64ece8d",
   "metadata": {},
   "outputs": [
    {
     "data": {
      "text/plain": [
       "(200073, 1)"
      ]
     },
     "execution_count": 16,
     "metadata": {},
     "output_type": "execute_result"
    }
   ],
   "source": [
    "# convert y-sequences into classes\n",
    "y_val_class = y_val.sum(axis=1)\n",
    "y_val_class = np.array([y==1 if y.sum()>0 else y==0 for y in y_val_class])\n",
    "y_val_class.shape"
   ]
  },
  {
   "cell_type": "markdown",
   "id": "a7ede163-3485-4cfd-bbb0-aa7e432e297e",
   "metadata": {},
   "source": [
    "## 4.Define LSTM"
   ]
  },
  {
   "cell_type": "code",
   "execution_count": 17,
   "id": "0a506ecd-95c9-4338-a42a-8c286274f068",
   "metadata": {},
   "outputs": [],
   "source": [
    "# model parameters\n",
    "n_features = X_train.shape[2]\n",
    "n_hidden = 32"
   ]
  },
  {
   "cell_type": "code",
   "execution_count": 18,
   "id": "398592ee-9f34-48e1-9063-bd3c19cc8889",
   "metadata": {},
   "outputs": [],
   "source": [
    "def lstm_model(n_steps, n_features, lr=0.011):\n",
    "    # define layers\n",
    "    inputs = tf.keras.Input(shape=(n_steps, n_features))\n",
    "    lstm1 =  tf.keras.layers.LSTM(n_hidden, activation='tanh', dropout=0)\n",
    "    vector = tf.keras.layers.RepeatVector(n_steps)\n",
    "    lstm2 =  tf.keras.layers.LSTM(n_hidden, activation='tanh', dropout=0, return_sequences=True)\n",
    "    dense =  tf.keras.layers.Dense(n_features)\n",
    "    outputs = tf.keras.layers.TimeDistributed(dense)\n",
    "    layers = [inputs, lstm1, vector, lstm2, outputs]\n",
    "    # create model\n",
    "    model = tf.keras.models.Sequential(layers)\n",
    "    model.summary()\n",
    "    # compile model\n",
    "    opt = tf.keras.optimizers.Adam(learning_rate=lr)\n",
    "    rmse = tf.keras.metrics.RootMeanSquaredError()\n",
    "    mae = tf.keras.metrics.MeanAbsoluteError()\n",
    "    model.compile(optimizer=opt, loss='mean_squared_error', metrics=[rmse, mae])\n",
    "    return model"
   ]
  },
  {
   "cell_type": "markdown",
   "id": "3a9b5dbf-c684-42f3-84fd-0be8a4b9c0ab",
   "metadata": {},
   "source": [
    "## 4.Train Model"
   ]
  },
  {
   "cell_type": "code",
   "execution_count": 19,
   "id": "b0758032-af31-471c-8a34-f6362551a1c5",
   "metadata": {
    "scrolled": true
   },
   "outputs": [
    {
     "name": "stdout",
     "output_type": "stream",
     "text": [
      "Model: \"sequential\"\n",
      "_________________________________________________________________\n",
      " Layer (type)                Output Shape              Param #   \n",
      "=================================================================\n",
      " lstm (LSTM)                 (None, 32)                5632      \n",
      "                                                                 \n",
      " repeat_vector (RepeatVecto  (None, 2, 32)             0         \n",
      " r)                                                              \n",
      "                                                                 \n",
      " lstm_1 (LSTM)               (None, 2, 32)             8320      \n",
      "                                                                 \n",
      " time_distributed (TimeDist  (None, 2, 11)             363       \n",
      " ributed)                                                        \n",
      "                                                                 \n",
      "=================================================================\n",
      "Total params: 14315 (55.92 KB)\n",
      "Trainable params: 14315 (55.92 KB)\n",
      "Non-trainable params: 0 (0.00 Byte)\n",
      "_________________________________________________________________\n"
     ]
    }
   ],
   "source": [
    "model = lstm_model(n_steps, n_features, lr=0.001)"
   ]
  },
  {
   "cell_type": "code",
   "execution_count": 20,
   "id": "48ea44e5-45eb-4f77-b5bb-86c7a7d8208b",
   "metadata": {},
   "outputs": [
    {
     "name": "stdout",
     "output_type": "stream",
     "text": [
      "Epoch 1/100\n",
      "86/86 [==============================] - 3s 24ms/step - loss: 0.1099 - root_mean_squared_error: 0.3316 - mean_absolute_error: 0.2357 - val_loss: 0.0709 - val_root_mean_squared_error: 0.2663 - val_mean_absolute_error: 0.2080\n",
      "Epoch 2/100\n",
      "86/86 [==============================] - 2s 20ms/step - loss: 0.0578 - root_mean_squared_error: 0.2403 - mean_absolute_error: 0.1822 - val_loss: 0.0525 - val_root_mean_squared_error: 0.2292 - val_mean_absolute_error: 0.1710\n",
      "Epoch 3/100\n",
      "86/86 [==============================] - 2s 20ms/step - loss: 0.0455 - root_mean_squared_error: 0.2133 - mean_absolute_error: 0.1554 - val_loss: 0.0425 - val_root_mean_squared_error: 0.2061 - val_mean_absolute_error: 0.1516\n",
      "Epoch 4/100\n",
      "86/86 [==============================] - 2s 20ms/step - loss: 0.0368 - root_mean_squared_error: 0.1917 - mean_absolute_error: 0.1380 - val_loss: 0.0333 - val_root_mean_squared_error: 0.1824 - val_mean_absolute_error: 0.1323\n",
      "Epoch 5/100\n",
      "86/86 [==============================] - 2s 19ms/step - loss: 0.0273 - root_mean_squared_error: 0.1653 - mean_absolute_error: 0.1162 - val_loss: 0.0247 - val_root_mean_squared_error: 0.1571 - val_mean_absolute_error: 0.1129\n",
      "Epoch 6/100\n",
      "86/86 [==============================] - 2s 19ms/step - loss: 0.0218 - root_mean_squared_error: 0.1476 - mean_absolute_error: 0.1041 - val_loss: 0.0215 - val_root_mean_squared_error: 0.1466 - val_mean_absolute_error: 0.1058\n",
      "Epoch 7/100\n",
      "86/86 [==============================] - 2s 19ms/step - loss: 0.0191 - root_mean_squared_error: 0.1382 - mean_absolute_error: 0.0980 - val_loss: 0.0186 - val_root_mean_squared_error: 0.1365 - val_mean_absolute_error: 0.0993\n",
      "Epoch 8/100\n",
      "86/86 [==============================] - 2s 19ms/step - loss: 0.0156 - root_mean_squared_error: 0.1249 - mean_absolute_error: 0.0894 - val_loss: 0.0143 - val_root_mean_squared_error: 0.1194 - val_mean_absolute_error: 0.0878\n",
      "Epoch 9/100\n",
      "86/86 [==============================] - 2s 19ms/step - loss: 0.0117 - root_mean_squared_error: 0.1081 - mean_absolute_error: 0.0773 - val_loss: 0.0109 - val_root_mean_squared_error: 0.1044 - val_mean_absolute_error: 0.0765\n",
      "Epoch 10/100\n",
      "86/86 [==============================] - 2s 19ms/step - loss: 0.0092 - root_mean_squared_error: 0.0960 - mean_absolute_error: 0.0687 - val_loss: 0.0087 - val_root_mean_squared_error: 0.0933 - val_mean_absolute_error: 0.0690\n",
      "Epoch 11/100\n",
      "86/86 [==============================] - 2s 19ms/step - loss: 0.0068 - root_mean_squared_error: 0.0823 - mean_absolute_error: 0.0592 - val_loss: 0.0054 - val_root_mean_squared_error: 0.0736 - val_mean_absolute_error: 0.0546\n",
      "Epoch 12/100\n",
      "86/86 [==============================] - 2s 19ms/step - loss: 0.0040 - root_mean_squared_error: 0.0631 - mean_absolute_error: 0.0444 - val_loss: 0.0031 - val_root_mean_squared_error: 0.0558 - val_mean_absolute_error: 0.0403\n",
      "Epoch 13/100\n",
      "86/86 [==============================] - 2s 19ms/step - loss: 0.0028 - root_mean_squared_error: 0.0529 - mean_absolute_error: 0.0359 - val_loss: 0.0024 - val_root_mean_squared_error: 0.0494 - val_mean_absolute_error: 0.0348\n",
      "Epoch 14/100\n",
      "86/86 [==============================] - 2s 19ms/step - loss: 0.0024 - root_mean_squared_error: 0.0487 - mean_absolute_error: 0.0325 - val_loss: 0.0021 - val_root_mean_squared_error: 0.0457 - val_mean_absolute_error: 0.0320\n",
      "Epoch 15/100\n",
      "86/86 [==============================] - 2s 19ms/step - loss: 0.0021 - root_mean_squared_error: 0.0454 - mean_absolute_error: 0.0300 - val_loss: 0.0018 - val_root_mean_squared_error: 0.0420 - val_mean_absolute_error: 0.0295\n",
      "Epoch 16/100\n",
      "86/86 [==============================] - 2s 19ms/step - loss: 0.0018 - root_mean_squared_error: 0.0419 - mean_absolute_error: 0.0277 - val_loss: 0.0015 - val_root_mean_squared_error: 0.0382 - val_mean_absolute_error: 0.0270\n",
      "Epoch 17/100\n",
      "86/86 [==============================] - 2s 19ms/step - loss: 0.0015 - root_mean_squared_error: 0.0383 - mean_absolute_error: 0.0254 - val_loss: 0.0012 - val_root_mean_squared_error: 0.0347 - val_mean_absolute_error: 0.0248\n",
      "Epoch 18/100\n",
      "86/86 [==============================] - 2s 19ms/step - loss: 0.0012 - root_mean_squared_error: 0.0353 - mean_absolute_error: 0.0235 - val_loss: 0.0010 - val_root_mean_squared_error: 0.0320 - val_mean_absolute_error: 0.0231\n",
      "Epoch 19/100\n",
      "86/86 [==============================] - 2s 19ms/step - loss: 0.0011 - root_mean_squared_error: 0.0328 - mean_absolute_error: 0.0221 - val_loss: 8.9708e-04 - val_root_mean_squared_error: 0.0300 - val_mean_absolute_error: 0.0218\n",
      "Epoch 20/100\n",
      "86/86 [==============================] - 2s 19ms/step - loss: 9.3103e-04 - root_mean_squared_error: 0.0305 - mean_absolute_error: 0.0208 - val_loss: 7.7566e-04 - val_root_mean_squared_error: 0.0279 - val_mean_absolute_error: 0.0205\n",
      "Epoch 21/100\n",
      "86/86 [==============================] - 2s 20ms/step - loss: 7.6583e-04 - root_mean_squared_error: 0.0277 - mean_absolute_error: 0.0191 - val_loss: 6.7740e-04 - val_root_mean_squared_error: 0.0260 - val_mean_absolute_error: 0.0196\n",
      "Epoch 22/100\n",
      "86/86 [==============================] - 2s 19ms/step - loss: 5.9901e-04 - root_mean_squared_error: 0.0245 - mean_absolute_error: 0.0172 - val_loss: 5.2187e-04 - val_root_mean_squared_error: 0.0228 - val_mean_absolute_error: 0.0172\n",
      "Epoch 23/100\n",
      "86/86 [==============================] - 2s 19ms/step - loss: 4.5787e-04 - root_mean_squared_error: 0.0214 - mean_absolute_error: 0.0152 - val_loss: 4.2987e-04 - val_root_mean_squared_error: 0.0207 - val_mean_absolute_error: 0.0157\n",
      "Epoch 24/100\n",
      "86/86 [==============================] - 2s 19ms/step - loss: 3.7419e-04 - root_mean_squared_error: 0.0193 - mean_absolute_error: 0.0137 - val_loss: 3.8360e-04 - val_root_mean_squared_error: 0.0196 - val_mean_absolute_error: 0.0148\n",
      "Epoch 25/100\n",
      "86/86 [==============================] - 2s 19ms/step - loss: 3.3531e-04 - root_mean_squared_error: 0.0183 - mean_absolute_error: 0.0128 - val_loss: 3.5135e-04 - val_root_mean_squared_error: 0.0187 - val_mean_absolute_error: 0.0140\n",
      "Epoch 26/100\n",
      "86/86 [==============================] - 2s 19ms/step - loss: 3.0941e-04 - root_mean_squared_error: 0.0176 - mean_absolute_error: 0.0122 - val_loss: 3.3354e-04 - val_root_mean_squared_error: 0.0183 - val_mean_absolute_error: 0.0137\n",
      "Epoch 27/100\n",
      "86/86 [==============================] - 2s 19ms/step - loss: 2.8932e-04 - root_mean_squared_error: 0.0170 - mean_absolute_error: 0.0118 - val_loss: 3.1915e-04 - val_root_mean_squared_error: 0.0179 - val_mean_absolute_error: 0.0133\n",
      "Epoch 28/100\n",
      "86/86 [==============================] - 2s 19ms/step - loss: 2.7317e-04 - root_mean_squared_error: 0.0165 - mean_absolute_error: 0.0114 - val_loss: 2.8987e-04 - val_root_mean_squared_error: 0.0170 - val_mean_absolute_error: 0.0127\n"
     ]
    }
   ],
   "source": [
    "early_stopping = tf.keras.callbacks.EarlyStopping(monitor='val_loss',\n",
    "                                                  min_delta=0.001,\n",
    "                                                  patience=10,\n",
    "                                                  verbose=0,\n",
    "                                                  mode='auto',\n",
    "                                                  restore_best_weights=True)\n",
    "history = model.fit(X_train,\n",
    "                    X_train,\n",
    "                    epochs=100,\n",
    "                    batch_size=20000,\n",
    "                    validation_data=(X_test, X_test),\n",
    "                    callbacks=[early_stopping],\n",
    "                    verbose=1)"
   ]
  },
  {
   "cell_type": "code",
   "execution_count": 21,
   "id": "fc9a865f-2055-46f4-92f4-7ca852bfa236",
   "metadata": {},
   "outputs": [
    {
     "name": "stdout",
     "output_type": "stream",
     "text": [
      "Minimal Loss: 0.0003\n"
     ]
    },
    {
     "data": {
      "image/png": "[encoded data removed]",
      "text/plain": [
       "<Figure size 1000x500 with 1 Axes>"
      ]
     },
     "metadata": {},
     "output_type": "display_data"
    }
   ],
   "source": [
    "loss = history.history['loss']\n",
    "val_loss = history.history['val_loss']\n",
    "min_loss = min(val_loss)\n",
    "print(f'Minimal Loss: {min_loss:.4f}')\n",
    "plt.figure(figsize=(10,5))\n",
    "plt.plot(loss, 'r', label='Loss of training data')\n",
    "plt.plot(val_loss, 'b-', label='Loss of validation data')\n",
    "plt.title('Model Loss')\n",
    "plt.ylabel('Loss')\n",
    "plt.xlabel('Training Epoch')\n",
    "plt.legend()\n",
    "plt.show()"
   ]
  },
  {
   "cell_type": "markdown",
   "id": "5f433015-020d-4a1a-88cd-a4de50c14118",
   "metadata": {},
   "source": [
    "## 5. Evaluate Model"
   ]
  },
  {
   "cell_type": "code",
   "execution_count": 22,
   "id": "2343193d-fbd6-443a-bf97-bffdb84d68f8",
   "metadata": {},
   "outputs": [
    {
     "name": "stdout",
     "output_type": "stream",
     "text": [
      "6253/6253 [==============================] - 7s 1ms/step\n"
     ]
    }
   ],
   "source": [
    "predictions = model.predict(X_val, verbose=1)"
   ]
  },
  {
   "cell_type": "code",
   "execution_count": 23,
   "id": "238be422-a652-4316-ad36-451307ff9068",
   "metadata": {},
   "outputs": [],
   "source": [
    "def reconstr_error(original, reconstr):\n",
    "    errors = np.sqrt(np.sum((original - reconstr)**2, axis=1))\n",
    "    return errors"
   ]
  },
  {
   "cell_type": "code",
   "execution_count": 24,
   "id": "86465704-00a8-40cb-af7f-02a37751db0f",
   "metadata": {},
   "outputs": [],
   "source": [
    "errors = reconstr_error(X_val, predictions)"
   ]
  },
  {
   "cell_type": "code",
   "execution_count": 25,
   "id": "d37b659e-15ff-4fd1-bfda-4f86b585f41a",
   "metadata": {},
   "outputs": [],
   "source": [
    "errors = errors.sum(axis=1)\n",
    "errors = errors.reshape(-1, 1)"
   ]
  },
  {
   "cell_type": "code",
   "execution_count": 26,
   "id": "274f525d-183a-40b8-bc76-697e07bb23de",
   "metadata": {},
   "outputs": [
    {
     "name": "stdout",
     "output_type": "stream",
     "text": [
      "Average precision score for validation: 0.9494\n"
     ]
    }
   ],
   "source": [
    "# average precision score test\n",
    "aps_val = average_precision_score(y_val_class, errors)\n",
    "print(f'Average precision score for validation: {aps_val:.4f}')"
   ]
  },
  {
   "cell_type": "code",
   "execution_count": 27,
   "id": "0b31751d-dde7-44d4-aa80-1dcbc64f0afb",
   "metadata": {},
   "outputs": [
    {
     "data": {
      "image/png": "[encoded data removed]",
      "text/plain": [
       "<Figure size 640x480 with 1 Axes>"
      ]
     },
     "metadata": {},
     "output_type": "display_data"
    }
   ],
   "source": [
    "# precision-recall curve for test results\n",
    "precision, recall, thresholds = precision_recall_curve(y_val_class, errors)\n",
    "plt.title(f'Средняя точность: {aps_val*100:.2f}%')\n",
    "plt.xlabel('Чувствительность')\n",
    "plt.xlim([0, 1.1])\n",
    "plt.ylim([0, 1.1])\n",
    "plt.ylabel('Точность')\n",
    "#plt.ylim([0, 1.1])\n",
    "#plt.xlim([0, 1.0])\n",
    "plt.plot(recall, precision, lw=2, color='k')\n",
    "plt.savefig('Average_precision_D.png')\n",
    "plt.show()"
   ]
  },
  {
   "cell_type": "code",
   "execution_count": 28,
   "id": "affd7b59-16f7-4f5e-80d5-3acf1caa3263",
   "metadata": {},
   "outputs": [
    {
     "data": {
      "image/png": "[encoded data removed]",
      "text/plain": [
       "<Figure size 640x480 with 1 Axes>"
      ]
     },
     "metadata": {},
     "output_type": "display_data"
    }
   ],
   "source": [
    "# receiver operational characteristic\n",
    "fpr, tpr, thresholds = roc_curve(y_val_class, errors)\n",
    "auROC = auc(fpr, tpr)\n",
    "plt.figure()\n",
    "plt.title(f'Площадь под кривой={auROC:.2f}')\n",
    "plt.plot(fpr, tpr, color='r', lw=2)\n",
    "plt.xlabel('False Positive Rate')\n",
    "plt.ylabel('True Positive Rate')\n",
    "plt.plot([0,1], [0,1], color='k', lw=2, linestyle='--')\n",
    "plt.show()"
   ]
  },
  {
   "cell_type": "code",
   "execution_count": null,
   "id": "2162ee9d-71c5-4205-8b26-bef907ca6b28",
   "metadata": {},
   "outputs": [],
   "source": []
  }
 ],
 "metadata": {
  "kernelspec": {
   "display_name": "Python 3 (ipykernel)",
   "language": "python",
   "name": "python3"
  },
  "language_info": {
   "codemirror_mode": {
    "name": "ipython",
    "version": 3
   },
   "file_extension": ".py",
   "mimetype": "text/x-python",
   "name": "python",
   "nbconvert_exporter": "python",
   "pygments_lexer": "ipython3",
   "version": "3.10.12"
  }
 },
 "nbformat": 4,
 "nbformat_minor": 5
}
